{
  "nbformat": 4,
  "nbformat_minor": 0,
  "metadata": {
    "colab": {
      "provenance": []
    },
    "kernelspec": {
      "name": "python3",
      "display_name": "Python 3"
    },
    "language_info": {
      "name": "python"
    },
    "accelerator": "TPU"
  },
  "cells": [
    {
      "cell_type": "code",
      "source": [
        "import tensorflow as tf\n",
        "import numpy as np\n",
        "from PIL import Image\n",
        "from tensorflow import keras\n",
        "from tensorflow.keras.optimizers import Adam\n",
        "from tensorflow.keras.callbacks import LambdaCallback\n",
        "from tqdm.notebook import tqdm_notebook\n",
        "from tensorflow.keras.preprocessing.image import load_img, img_to_array"
      ],
      "metadata": {
        "id": "zUKJcb2hR4fY"
      },
      "execution_count": 112,
      "outputs": []
    },
    {
      "cell_type": "code",
      "source": [
        "mnist = tf.keras.datasets.mnist"
      ],
      "metadata": {
        "id": "YmQsB_RqSMle"
      },
      "execution_count": 101,
      "outputs": []
    },
    {
      "cell_type": "code",
      "source": [
        "(train_images, train_labels), (test_images, test_labels) = mnist.load_data()"
      ],
      "metadata": {
        "id": "viocDWmXSYUT"
      },
      "execution_count": 102,
      "outputs": []
    },
    {
      "cell_type": "code",
      "source": [
        "sample = Image.fromarray(train_images[0])"
      ],
      "metadata": {
        "id": "xTeFMersShMv"
      },
      "execution_count": 103,
      "outputs": []
    },
    {
      "cell_type": "code",
      "source": [
        "sample.show()"
      ],
      "metadata": {
        "colab": {
          "base_uri": "https://localhost:8080/",
          "height": 45
        },
        "id": "U4t6bX1jTcGL",
        "outputId": "0a9a007c-e428-4d4d-b94f-153bd16c3e6f"
      },
      "execution_count": 104,
      "outputs": [
        {
          "output_type": "display_data",
          "data": {
            "text/plain": [
              "<PIL.Image.Image image mode=L size=28x28 at 0x7F507639B7C0>"
            ],
            "image/png": "[encoded data removed]"
          },
          "metadata": {}
        }
      ]
    },
    {
      "cell_type": "code",
      "source": [
        "train_images[0].shape"
      ],
      "metadata": {
        "colab": {
          "base_uri": "https://localhost:8080/"
        },
        "id": "zgepO5ytTr_e",
        "outputId": "9a014451-95ec-4542-fe83-f9af22e57cc7"
      },
      "execution_count": 128,
      "outputs": [
        {
          "output_type": "execute_result",
          "data": {
            "text/plain": [
              "(28, 28)"
            ]
          },
          "metadata": {},
          "execution_count": 128
        }
      ]
    },
    {
      "cell_type": "code",
      "source": [
        "print(set(train_labels))"
      ],
      "metadata": {
        "colab": {
          "base_uri": "https://localhost:8080/"
        },
        "id": "z8KE9RITW5zS",
        "outputId": "eb911ad5-4f06-4184-9364-2ba72ec144bb"
      },
      "execution_count": 106,
      "outputs": [
        {
          "output_type": "stream",
          "name": "stdout",
          "text": [
            "{0, 1, 2, 3, 4, 5, 6, 7, 8, 9}\n"
          ]
        }
      ]
    },
    {
      "cell_type": "code",
      "source": [
        "train_images = train_images/255\n",
        "test_images = test_images/255"
      ],
      "metadata": {
        "id": "MIbuAC1_T11R"
      },
      "execution_count": 107,
      "outputs": []
    },
    {
      "cell_type": "code",
      "source": [
        "model = keras.Sequential([\n",
        "    keras.layers.Flatten(),\n",
        "    keras.layers.Dense(128,activation=tf.nn.relu),\n",
        "    keras.layers.Dense(64,activation=tf.nn.relu),\n",
        "    keras.layers.Dense(10,activation=tf.nn.softmax)\n",
        "])"
      ],
      "metadata": {
        "id": "2b5_ONviUBwL"
      },
      "execution_count": 108,
      "outputs": []
    },
    {
      "cell_type": "code",
      "source": [
        "model.compile(Adam(learning_rate=0.001),loss='sparse_categorical_crossentropy',metrics=['accuracy'])"
      ],
      "metadata": {
        "id": "iMqRijThU43_"
      },
      "execution_count": 109,
      "outputs": []
    },
    {
      "cell_type": "code",
      "source": [
        "def update_progress_bar(batch, logs):\n",
        "    accuracy = logs['accuracy']\n",
        "    tqdm_notebook.write(f'Accuracy: {accuracy:.4f}', end='\\r')\n",
        "\n",
        "progress_callback = LambdaCallback(on_batch_end=update_progress_bar)\n",
        "\n",
        "# Train the model with the progress callback\n",
        "model.fit(\n",
        "    train_images, \n",
        "    train_labels, \n",
        "    batch_size=20, \n",
        "    epochs=15, \n",
        "    validation_split=0.2, \n",
        "    callbacks=[progress_callback], \n",
        "    verbose=2, \n",
        "    shuffle=True\n",
        ")\n",
        "\n",
        "\n",
        "\n",
        "\n",
        "\n"
      ],
      "metadata": {
        "colab": {
          "base_uri": "https://localhost:8080/"
        },
        "id": "qeA4lBZJVkDD",
        "outputId": "9b409e15-9079-4224-df23-aa73d23a579d"
      },
      "execution_count": 110,
      "outputs": [
        {
          "output_type": "stream",
          "name": "stdout",
          "text": [
            "Epoch 1/15\n",
            "2400/2400 - 14s - loss: 0.2486 - accuracy: 0.9268 - val_loss: 0.1259 - val_accuracy: 0.9616 - 14s/epoch - 6ms/step\n",
            "Epoch 2/15\n",
            "2400/2400 - 13s - loss: 0.1062 - accuracy: 0.9670 - val_loss: 0.1056 - val_accuracy: 0.9688 - 13s/epoch - 6ms/step\n",
            "Epoch 3/15\n",
            "2400/2400 - 13s - loss: 0.0729 - accuracy: 0.9779 - val_loss: 0.0980 - val_accuracy: 0.9714 - 13s/epoch - 5ms/step\n",
            "Epoch 4/15\n",
            "2400/2400 - 13s - loss: 0.0575 - accuracy: 0.9819 - val_loss: 0.0940 - val_accuracy: 0.9719 - 13s/epoch - 5ms/step\n",
            "Epoch 5/15\n",
            "2400/2400 - 13s - loss: 0.0439 - accuracy: 0.9861 - val_loss: 0.0967 - val_accuracy: 0.9728 - 13s/epoch - 5ms/step\n",
            "Epoch 6/15\n",
            "2400/2400 - 13s - loss: 0.0358 - accuracy: 0.9885 - val_loss: 0.1006 - val_accuracy: 0.9730 - 13s/epoch - 5ms/step\n",
            "Epoch 7/15\n",
            "2400/2400 - 12s - loss: 0.0312 - accuracy: 0.9895 - val_loss: 0.1018 - val_accuracy: 0.9742 - 12s/epoch - 5ms/step\n",
            "Epoch 8/15\n",
            "2400/2400 - 12s - loss: 0.0252 - accuracy: 0.9913 - val_loss: 0.1062 - val_accuracy: 0.9758 - 12s/epoch - 5ms/step\n",
            "Epoch 9/15\n",
            "2400/2400 - 12s - loss: 0.0233 - accuracy: 0.9924 - val_loss: 0.1257 - val_accuracy: 0.9737 - 12s/epoch - 5ms/step\n",
            "Epoch 10/15\n",
            "2400/2400 - 13s - loss: 0.0214 - accuracy: 0.9929 - val_loss: 0.1414 - val_accuracy: 0.9728 - 13s/epoch - 5ms/step\n",
            "Epoch 11/15\n",
            "2400/2400 - 13s - loss: 0.0164 - accuracy: 0.9946 - val_loss: 0.1230 - val_accuracy: 0.9747 - 13s/epoch - 5ms/step\n",
            "Epoch 12/15\n",
            "2400/2400 - 13s - loss: 0.0172 - accuracy: 0.9941 - val_loss: 0.1311 - val_accuracy: 0.9748 - 13s/epoch - 5ms/step\n",
            "Epoch 13/15\n",
            "2400/2400 - 13s - loss: 0.0152 - accuracy: 0.9952 - val_loss: 0.1384 - val_accuracy: 0.9741 - 13s/epoch - 5ms/step\n",
            "Epoch 14/15\n",
            "2400/2400 - 13s - loss: 0.0145 - accuracy: 0.9957 - val_loss: 0.1442 - val_accuracy: 0.9745 - 13s/epoch - 5ms/step\n",
            "Epoch 15/15\n",
            "2400/2400 - 13s - loss: 0.0155 - accuracy: 0.9948 - val_loss: 0.1410 - val_accuracy: 0.9749 - 13s/epoch - 5ms/step\n"
          ]
        },
        {
          "output_type": "execute_result",
          "data": {
            "text/plain": [
              "<keras.callbacks.History at 0x7f50763e5cc0>"
            ]
          },
          "metadata": {},
          "execution_count": 110
        }
      ]
    },
    {
      "cell_type": "code",
      "source": [
        "model.evaluate(test_images,test_labels)"
      ],
      "metadata": {
        "colab": {
          "base_uri": "https://localhost:8080/"
        },
        "id": "v0Fx-9GpXNWR",
        "outputId": "eb84972a-804c-41af-b98d-1d72a2485d41"
      },
      "execution_count": 111,
      "outputs": [
        {
          "output_type": "stream",
          "name": "stdout",
          "text": [
            "313/313 [==============================] - 1s 2ms/step - loss: 0.1300 - accuracy: 0.9753\n"
          ]
        },
        {
          "output_type": "execute_result",
          "data": {
            "text/plain": [
              "[0.12999854981899261, 0.9753000140190125]"
            ]
          },
          "metadata": {},
          "execution_count": 111
        }
      ]
    }
  ]
}